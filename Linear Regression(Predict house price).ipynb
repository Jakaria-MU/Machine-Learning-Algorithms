{
 "cells": [
  {
   "cell_type": "code",
   "execution_count": 23,
   "metadata": {},
   "outputs": [],
   "source": [
    "import matplotlib.pyplot as plt #for plotting data\n",
    "import numpy as np\n",
    "from sklearn import linear_model #linear model for linear regression"
   ]
  },
  {
   "cell_type": "code",
   "execution_count": 24,
   "metadata": {},
   "outputs": [],
   "source": [
    "house_price = [245,312,279,308,199,219,405,324,319,255]\n",
    "house_size = [1400,1600,1700,1875,1100,1550,2350,2450,1425,1700]"
   ]
  },
  {
   "cell_type": "code",
   "execution_count": 25,
   "metadata": {},
   "outputs": [],
   "source": [
    "house_size = np.array(house_size).reshape(-1,1)"
   ]
  },
  {
   "cell_type": "code",
   "execution_count": 27,
   "metadata": {},
   "outputs": [
    {
     "name": "stdout",
     "output_type": "stream",
     "text": [
      "Y_pred:  [251.92316258 273.87671015 284.85348393 304.06283805 218.99284123\n",
      " 268.38832326 356.20251352 367.17928731 254.66735603 284.85348393]\n",
      "Coefficient:  [0.10976774]\n",
      "Intercept:  98.24832962138083\n"
     ]
    }
   ],
   "source": [
    "regr = linear_model.LinearRegression() #creating object for Linear Regression class\n",
    "regr.fit(house_size,house_price) #fitting data into linear model\n",
    "y_pred = regr.predict(house_size)\n",
    "print(\"Y_pred: \", y_pred)\n",
    "print(\"Coefficient: \",regr.coef_)\n",
    "print(\"Intercept: \",regr.intercept_)"
   ]
  },
  {
   "cell_type": "code",
   "execution_count": 28,
   "metadata": {},
   "outputs": [
    {
     "data": {
      "image/png": "[encoded data removed]",
      "text/plain": [
       "<Figure size 432x288 with 1 Axes>"
      ]
     },
     "metadata": {
      "needs_background": "light"
     },
     "output_type": "display_data"
    }
   ],
   "source": [
    "def graph(formula,x_range):\n",
    "    x = np.array(x_range)\n",
    "    y = eval(formula)\n",
    "    plt.plot(x,y)\n",
    "graph('regr.coef_* x + regr.intercept_',range(1000,2750))\n",
    "plt.scatter(house_size, house_price,color=\"blue\")\n",
    "plt.ylabel('House Price')\n",
    "plt.xlabel('House Size')\n",
    "plt.show()"
   ]
  },
  {
   "cell_type": "code",
   "execution_count": 29,
   "metadata": {},
   "outputs": [],
   "source": [
    "def predict(size_of_the_house):\n",
    "    price_of_the_house = regr.coef_ * size_of_the_house + regr.intercept_\n",
    "    print('Price of the house: ',price_of_the_house)"
   ]
  },
  {
   "cell_type": "code",
   "execution_count": 30,
   "metadata": {},
   "outputs": [
    {
     "name": "stdout",
     "output_type": "stream",
     "text": [
      "House size: 125.50\n",
      "Price of the house:  [112.02418072]\n"
     ]
    }
   ],
   "source": [
    "size_of_the_house = float(input('House size: '))\n",
    "predict(size_of_the_house)"
   ]
  },
  {
   "cell_type": "code",
   "execution_count": null,
   "metadata": {},
   "outputs": [],
   "source": []
  },
  {
   "cell_type": "code",
   "execution_count": null,
   "metadata": {},
   "outputs": [],
   "source": []
  }
 ],
 "metadata": {
  "kernelspec": {
   "display_name": "Python 3",
   "language": "python",
   "name": "python3"
  },
  "language_info": {
   "codemirror_mode": {
    "name": "ipython",
    "version": 3
   },
   "file_extension": ".py",
   "mimetype": "text/x-python",
   "name": "python",
   "nbconvert_exporter": "python",
   "pygments_lexer": "ipython3",
   "version": "3.7.1"
  }
 },
 "nbformat": 4,
 "nbformat_minor": 2
}
